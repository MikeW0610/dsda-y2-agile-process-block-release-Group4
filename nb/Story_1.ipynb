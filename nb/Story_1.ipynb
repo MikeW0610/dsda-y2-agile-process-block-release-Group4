{
 "cells": [
  {
   "cell_type": "markdown",
   "id": "bf23d394-64a0-4189-8c56-70a778797a91",
   "metadata": {},
   "source": [
    "# Block Release\n",
    "\n",
    "This notebook contains the skeleton of the code to be used for the tasks."
   ]
  },
  {
   "cell_type": "markdown",
   "id": "dd126b81-5c5d-402f-be13-0849c5f0645f",
   "metadata": {},
   "source": [
    "## Imports"
   ]
  },
  {
   "cell_type": "code",
   "execution_count": 5,
   "id": "b6d4f302-3243-4a85-8e86-45ffa3b66dcb",
   "metadata": {
    "tags": []
   },
   "outputs": [],
   "source": [
    "import pandas as pd\n",
    "import requests"
   ]
  },
  {
   "cell_type": "markdown",
   "id": "ef2764d3-9668-42c4-a0c7-18f2b849f1bb",
   "metadata": {
    "tags": []
   },
   "source": [
    "## Locations"
   ]
  },
  {
   "cell_type": "code",
   "execution_count": 6,
   "id": "a0d51268-a911-4300-ba82-ddbfa96f9e36",
   "metadata": {
    "tags": []
   },
   "outputs": [],
   "source": [
    "# coordinates are latitude, longitude pairs\n",
    "LOCATION_UNIVERSITY_PARK = (52.93726647677705, -1.1959384006396074)\n",
    "LOCATION_JUBILEE_CAMPUS = (52.95232635429298, -1.1862643609249397)\n",
    "LOCATION_NOTTINGHAM_CITY_CENTRE = (52.953, -1.149)"
   ]
  },
  {
   "cell_type": "markdown",
   "id": "092caed0-a70a-4fbc-92c1-345bc2a33dc2",
   "metadata": {},
   "source": [
    "## API\n",
    "\n",
    "You will need to add more API URLs here as needed to complete the stories."
   ]
  },
  {
   "cell_type": "code",
   "execution_count": 7,
   "id": "a1b208a0-88d8-48e6-bcdd-c2001d3dbdee",
   "metadata": {
    "tags": []
   },
   "outputs": [],
   "source": [
    "API_STREET_CRIME = \"https://data.police.uk/api/crimes-street/\""
   ]
  },
  {
   "cell_type": "markdown",
   "id": "e0aa343a-c9c9-41d5-80bc-17a71d639a6c",
   "metadata": {},
   "source": [
    "## Crimes Near University Park Campus\n",
    "\n",
    "Example function which calculates the number of crimes within 1 mile of University Park campus."
   ]
  },
  {
   "cell_type": "code",
   "execution_count": 8,
   "id": "76e22400-1d34-4ac0-bf4f-51723ccf1c38",
   "metadata": {
    "tags": []
   },
   "outputs": [
    {
     "name": "stdout",
     "output_type": "stream",
     "text": [
      "Number of thefts in 2023-01 within 1 mile of (53.83726647677705, -1.1959384006396074): 0\n"
     ]
    }
   ],
   "source": [
    "import requests\n",
    "\n",
    "\n",
    "def count_crimes_within_1_mile(lat: float, lon: float, year: int, month: int) -> int:\n",
    "    url = (\n",
    "        \"https://data.police.uk/api/crimes-street/all-crime\"\n",
    "        f\"?lat={lat}\"\n",
    "        f\"&lng={lon}\"\n",
    "        f\"&date={year}-{month:02}\"\n",
    "        \"&crime_type=bicycle-theft\"\n",
    "    )\n",
    "\n",
    "    response = requests.get(url)\n",
    "\n",
    "    if response.status_code == 200:\n",
    "        return len(response.json())\n",
    "    else:\n",
    "        print(f\"Error retrieving data: {response.status_code}\")\n",
    "        return 0\n",
    "\n",
    "\n",
    "lat, lon = 53.83726647677705, -1.1959384006396074\n",
    "year, month = 2023, 1\n",
    "num_crimes = count_crimes_within_1_mile(lat, lon, year, month)\n",
    "print(f\"Number of thefts in {year}-{month:02} within 1 mile of ({lat}, {lon}): {num_crimes}\")\n"
   ]
  },
  {
   "cell_type": "code",
   "execution_count": 8,
   "outputs": [],
   "source": [],
   "metadata": {
    "collapsed": false
   }
  }
 ],
 "metadata": {
  "kernelspec": {
   "display_name": "Python 3 (ipykernel)",
   "language": "python",
   "name": "python3"
  },
  "language_info": {
   "codemirror_mode": {
    "name": "ipython",
    "version": 3
   },
   "file_extension": ".py",
   "mimetype": "text/x-python",
   "name": "python",
   "nbconvert_exporter": "python",
   "pygments_lexer": "ipython3",
   "version": "3.11.2"
  }
 },
 "nbformat": 4,
 "nbformat_minor": 5
}
