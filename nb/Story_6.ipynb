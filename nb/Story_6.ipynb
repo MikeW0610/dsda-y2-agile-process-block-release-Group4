{
 "cells": [
  {
   "cell_type": "markdown",
   "id": "bf23d394-64a0-4189-8c56-70a778797a91",
   "metadata": {},
   "source": [
    "# Block Release\n",
    "\n",
    "This notebook contains the skeleton of the code to be used for the tasks."
   ]
  },
  {
   "cell_type": "markdown",
   "id": "dd126b81-5c5d-402f-be13-0849c5f0645f",
   "metadata": {},
   "source": [
    "## Imports"
   ]
  },
  {
   "cell_type": "code",
   "execution_count": 22,
   "id": "b6d4f302-3243-4a85-8e86-45ffa3b66dcb",
   "metadata": {
    "tags": []
   },
   "outputs": [],
   "source": [
    "import pandas as pd\n",
    "import requests"
   ]
  },
  {
   "cell_type": "markdown",
   "id": "ef2764d3-9668-42c4-a0c7-18f2b849f1bb",
   "metadata": {
    "tags": []
   },
   "source": [
    "## Locations"
   ]
  },
  {
   "cell_type": "code",
   "execution_count": 23,
   "id": "a0d51268-a911-4300-ba82-ddbfa96f9e36",
   "metadata": {
    "tags": []
   },
   "outputs": [],
   "source": [
    "# coordinates are latitude, longitude pairs\n",
    "LOCATION_UNIVERSITY_PARK = (52.93726647677705, -1.1959384006396074)\n",
    "LOCATION_JUBILEE_CAMPUS = (52.95232635429298, -1.1862643609249397)\n",
    "LOCATION_NOTTINGHAM_CITY_CENTRE = (52.953, -1.149)"
   ]
  },
  {
   "cell_type": "markdown",
   "id": "092caed0-a70a-4fbc-92c1-345bc2a33dc2",
   "metadata": {},
   "source": [
    "## API\n",
    "\n",
    "You will need to add more API URLs here as needed to complete the stories."
   ]
  },
  {
   "cell_type": "code",
   "execution_count": 24,
   "id": "a1b208a0-88d8-48e6-bcdd-c2001d3dbdee",
   "metadata": {
    "tags": []
   },
   "outputs": [],
   "source": [
    "API_STREET_CRIME = \"https://data.police.uk/api/crimes-street/\""
   ]
  },
  {
   "cell_type": "markdown",
   "id": "e0aa343a-c9c9-41d5-80bc-17a71d639a6c",
   "metadata": {},
   "source": [
    "## Crimes Near University Park Campus\n",
    "\n",
    "Example function which calculates the number of crimes within 1 mile of University Park campus."
   ]
  },
  {
   "cell_type": "code",
   "execution_count": 9,
   "id": "76e22400-1d34-4ac0-bf4f-51723ccf1c38",
   "metadata": {
    "tags": []
   },
   "outputs": [
    {
     "name": "stdout",
     "output_type": "stream",
     "text": [
      "Burglaries in 1/2022: 119\n",
      "Burglaries in 2/2022: 172\n",
      "Burglaries in 3/2022: 202\n",
      "Burglaries in 4/2022: 149\n",
      "Burglaries in 5/2022: 176\n",
      "Burglaries in 6/2022: 153\n",
      "Burglaries in 7/2022: 138\n",
      "Burglaries in 8/2022: 165\n",
      "Burglaries in 9/2022: 130\n",
      "Burglaries in 10/2022: 174\n",
      "Burglaries in 11/2022: 187\n",
      "Burglaries in 12/2022: 148\n"
     ]
    },
    {
     "data": {
      "text/plain": "<Figure size 432x288 with 1 Axes>",
      "image/png": "[encoded data removed]"
     },
     "metadata": {
      "needs_background": "light"
     },
     "output_type": "display_data"
    }
   ],
   "source": [
    "import requests\n",
    "import matplotlib.pyplot as plt\n",
    "import calendar\n",
    "\n",
    "\n",
    "def count_burglaries(location: tuple) -> list[int]:\n",
    "    burglaries_by_month = []\n",
    "\n",
    "    for month in range(1, 13):\n",
    "        url = (\n",
    "            \"https://data.police.uk/api/crimes-street/all-crime\"\n",
    "            f\"?lat={location[0]}\"\n",
    "            f\"&lng={location[1]}\"\n",
    "            f\"&date=2022-{month:02}\"\n",
    "            \"&category=burglary\"\n",
    "        )\n",
    "\n",
    "        response = requests.get(url)\n",
    "\n",
    "        if response.status_code == 200:\n",
    "            burglaries_by_month.append(len(response.json()))\n",
    "        else:\n",
    "            print(f\"Error retrieving data: {response.status_code}\")\n",
    "            burglaries_by_month.append(0)\n",
    "\n",
    "    return burglaries_by_month\n",
    "\n",
    "\n",
    "burglaries_by_month = count_burglaries(LOCATION_JUBILEE_CAMPUS)\n",
    "\n",
    "for month, burglaries in enumerate(burglaries_by_month, start=1):\n",
    "    print(f\"Burglaries in {month}/2022: {burglaries}\")\n",
    "\n",
    "month_names = [calendar.month_abbr[i] for i in range(1, 13)]\n",
    "plt.bar(month_names, burglaries_by_month)\n",
    "plt.title(\"Burglaries in 2022 within 1 mile of Jubilee Campus\")\n",
    "plt.xlabel(\"Month\")\n",
    "plt.ylabel(\"Number of burglaries\")\n",
    "plt.show()"
   ]
  },
  {
   "cell_type": "code",
   "execution_count": null,
   "outputs": [],
   "source": [],
   "metadata": {
    "collapsed": false
   }
  }
 ],
 "metadata": {
  "kernelspec": {
   "display_name": "Python 3 (ipykernel)",
   "language": "python",
   "name": "python3"
  },
  "language_info": {
   "codemirror_mode": {
    "name": "ipython",
    "version": 3
   },
   "file_extension": ".py",
   "mimetype": "text/x-python",
   "name": "python",
   "nbconvert_exporter": "python",
   "pygments_lexer": "ipython3",
   "version": "3.11.2"
  }
 },
 "nbformat": 4,
 "nbformat_minor": 5
}
